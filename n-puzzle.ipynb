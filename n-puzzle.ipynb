{
 "cells": [
  {
   "cell_type": "code",
   "execution_count": null,
   "metadata": {},
   "outputs": [],
   "source": [
    "import heapq\n",
    "import numpy as np\n",
    "from icecream import ic\n",
    "from random import choice\n",
    "from tqdm.auto import tqdm\n",
    "from collections import namedtuple"
   ]
  },
  {
   "cell_type": "code",
   "execution_count": null,
   "metadata": {},
   "outputs": [],
   "source": [
    "PUZZLE_DIM = 3\n",
    "Action = namedtuple('Action', ['pos1', 'pos2'])"
   ]
  },
  {
   "cell_type": "code",
   "execution_count": null,
   "metadata": {},
   "outputs": [],
   "source": [
    "def available_actions(state: np.ndarray) -> list['Action']:\n",
    "    x_start, y_start = [int(_[0]) for _ in np.where(state == 0)]\n",
    "    actions = list()\n",
    "    if x_start > 0:\n",
    "        actions.append(Action((x_start, y_start), (x_start-1, y_start)))\n",
    "    if x_start < PUZZLE_DIM - 1:\n",
    "        actions.append(Action((x_start, y_start), (x_start+1, y_start)))\n",
    "    if y_start > 0:\n",
    "        actions.append(Action((x_start, y_start), (x_start, y_start-1)))\n",
    "    if y_start < PUZZLE_DIM - 1:\n",
    "        actions.append(Action((x_start, y_start), (x_start, y_start+1)))\n",
    "    return actions\n",
    "\n",
    "def do_action(state: np.ndarray, action: 'Action') -> np.ndarray:\n",
    "    new_state = state.copy()\n",
    "    new_state[action.pos1], new_state[action.pos2] = new_state[action.pos2], new_state[action.pos1]\n",
    "    return new_state\n"
   ]
  },
  {
   "cell_type": "code",
   "execution_count": null,
   "metadata": {},
   "outputs": [],
   "source": [
    "def manhattan_distance(state: np.ndarray) -> int:\n",
    "    total_distance = 0\n",
    "    correct_pos = {n : (n // PUZZLE_DIM, n - PUZZLE_DIM * (n // PUZZLE_DIM)) for n in range(PUZZLE_DIM**2)}\n",
    "    for n in range(PUZZLE_DIM**2):\n",
    "        x_current, y_current = [int(_[0]) for _ in np.where(state == n)]\n",
    "        total_distance += abs(x_current - correct_pos[n][0]) + abs(y_current - correct_pos[n][1])\n",
    "    return total_distance"
   ]
  },
  {
   "cell_type": "code",
   "execution_count": null,
   "metadata": {},
   "outputs": [],
   "source": [
    "RANDOMIZE_STEPS = 1000\n",
    "GOAL_STATE = np.array([i for i in range(0, PUZZLE_DIM**2)]).reshape((PUZZLE_DIM, PUZZLE_DIM))\n",
    "\n",
    "initial_state = GOAL_STATE.copy()\n",
    "for step in range(RANDOMIZE_STEPS): # use tqdm\n",
    "    initial_state = do_action(initial_state, choice(available_actions(initial_state)))\n",
    "    \n",
    "h_distance = manhattan_distance(initial_state)\n",
    "print(initial_state)\n",
    "print(h_distance)"
   ]
  },
  {
   "cell_type": "code",
   "execution_count": null,
   "metadata": {},
   "outputs": [],
   "source": [
    "class Node:\n",
    "    def __init__(self, current_state, parent):\n",
    "        self.current_state = current_state\n",
    "        self.parent = parent"
   ]
  },
  {
   "cell_type": "code",
   "execution_count": 49,
   "metadata": {},
   "outputs": [
    {
     "ename": "KeyboardInterrupt",
     "evalue": "",
     "output_type": "error",
     "traceback": [
      "\u001b[1;31m---------------------------------------------------------------------------\u001b[0m",
      "\u001b[1;31mKeyboardInterrupt\u001b[0m                         Traceback (most recent call last)",
      "Cell \u001b[1;32mIn[49], line 22\u001b[0m\n\u001b[0;32m     20\u001b[0m new_state \u001b[38;5;241m=\u001b[39m do_action(node\u001b[38;5;241m.\u001b[39mcurrent_state, action)\n\u001b[0;32m     21\u001b[0m \u001b[38;5;28;01mif\u001b[39;00m \u001b[38;5;28mtuple\u001b[39m(new_state\u001b[38;5;241m.\u001b[39mflatten()) \u001b[38;5;129;01mnot\u001b[39;00m \u001b[38;5;129;01min\u001b[39;00m explored:\n\u001b[1;32m---> 22\u001b[0m     explored\u001b[38;5;241m.\u001b[39madd(\u001b[38;5;28mtuple\u001b[39m(\u001b[43mnew_state\u001b[49m\u001b[38;5;241;43m.\u001b[39;49m\u001b[43mflatten\u001b[49m\u001b[43m(\u001b[49m\u001b[43m)\u001b[49m))\n\u001b[0;32m     23\u001b[0m     h_distance \u001b[38;5;241m=\u001b[39m manhattan_distance(new_state)\n\u001b[0;32m     24\u001b[0m     heapq\u001b[38;5;241m.\u001b[39mheappush(frontier, (g \u001b[38;5;241m+\u001b[39m \u001b[38;5;241m1\u001b[39m \u001b[38;5;241m+\u001b[39m h_distance, g \u001b[38;5;241m+\u001b[39m \u001b[38;5;241m1\u001b[39m, counter, Node(new_state, node\u001b[38;5;241m.\u001b[39mcurrent_state)))\n",
      "\u001b[1;31mKeyboardInterrupt\u001b[0m: "
     ]
    }
   ],
   "source": [
    "frontier = []\n",
    "explored = set()\n",
    "counter = 0\n",
    "heapq.heappush(frontier, (0 + h_distance, 0, counter, Node(initial_state, None)))\n",
    "counter += 1\n",
    "\n",
    "while len(frontier) != 0:\n",
    "    f, g, _ , node = heapq.heappop(frontier)\n",
    "\n",
    "    if np.array_equal(node.current_state, GOAL_STATE):\n",
    "        print(\"GOAL\")\n",
    "        break\n",
    "        \"\"\"path = []\n",
    "        current_node = node\n",
    "        while current_node.parent is not None:\n",
    "            path.append(current_node.current_state)\n",
    "            current_node.current_state = current_node.parent\n",
    "        print(path[::-1])\"\"\"\n",
    "    else:\n",
    "        for action in available_actions(node.current_state):\n",
    "            new_state = do_action(node.current_state, action)\n",
    "            if tuple(new_state.flatten()) not in explored:\n",
    "                explored.add(tuple(new_state.flatten()))\n",
    "                h_distance = manhattan_distance(new_state)\n",
    "                heapq.heappush(frontier, (g + 1 + h_distance, g + 1, counter, Node(new_state, node.current_state)))\n",
    "                counter += 1\n"
   ]
  }
 ],
 "metadata": {
  "kernelspec": {
   "display_name": "CI2024",
   "language": "python",
   "name": "python3"
  },
  "language_info": {
   "codemirror_mode": {
    "name": "ipython",
    "version": 3
   },
   "file_extension": ".py",
   "mimetype": "text/x-python",
   "name": "python",
   "nbconvert_exporter": "python",
   "pygments_lexer": "ipython3",
   "version": "3.10.11"
  }
 },
 "nbformat": 4,
 "nbformat_minor": 2
}
