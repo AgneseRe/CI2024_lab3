{
 "cells": [
  {
   "cell_type": "code",
   "execution_count": 36,
   "metadata": {},
   "outputs": [],
   "source": [
    "import heapq\n",
    "import numpy as np\n",
    "from icecream import ic\n",
    "from random import choice\n",
    "from tqdm.auto import tqdm\n",
    "from collections import namedtuple"
   ]
  },
  {
   "cell_type": "code",
   "execution_count": 37,
   "metadata": {},
   "outputs": [],
   "source": [
    "PUZZLE_DIM = 3\n",
    "Action = namedtuple('Action', ['pos1', 'pos2'])"
   ]
  },
  {
   "cell_type": "code",
   "execution_count": 38,
   "metadata": {},
   "outputs": [],
   "source": [
    "def available_actions(state: np.ndarray) -> list['Action']:\n",
    "    x_start, y_start = [int(_[0]) for _ in np.where(state == 0)]\n",
    "    actions = list()\n",
    "    if x_start > 0:\n",
    "        actions.append(Action((x_start, y_start), (x_start-1, y_start)))\n",
    "    if x_start < PUZZLE_DIM - 1:\n",
    "        actions.append(Action((x_start, y_start), (x_start+1, y_start)))\n",
    "    if y_start > 0:\n",
    "        actions.append(Action((x_start, y_start), (x_start, y_start-1)))\n",
    "    if y_start < PUZZLE_DIM - 1:\n",
    "        actions.append(Action((x_start, y_start), (x_start, y_start+1)))\n",
    "    return actions\n",
    "\n",
    "def do_action(state: np.ndarray, action: 'Action') -> np.ndarray:\n",
    "    new_state = state.copy()\n",
    "    new_state[action.pos1], new_state[action.pos2] = new_state[action.pos2], new_state[action.pos1]\n",
    "    return new_state\n"
   ]
  },
  {
   "cell_type": "code",
   "execution_count": 39,
   "metadata": {},
   "outputs": [],
   "source": [
    "def manhattan_distance(state: np.ndarray) -> int:\n",
    "    total_distance = 0\n",
    "    # row: (n-1) // PUZZLE_DIM, column: n - PUZZLE_DIM * row - 1\n",
    "    correct_pos = {n : ((n-1) // PUZZLE_DIM, n - PUZZLE_DIM * ((n-1) // PUZZLE_DIM) - 1) for n in range(1, PUZZLE_DIM**2)}\n",
    "    correct_pos[0] = (PUZZLE_DIM-1, PUZZLE_DIM-1)\n",
    "    for n in range(PUZZLE_DIM**2):\n",
    "        x_current, y_current = [int(_[0]) for _ in np.where(state == n)]\n",
    "        total_distance += abs(x_current - correct_pos[n][0]) + abs(y_current - correct_pos[n][1])\n",
    "    return total_distance"
   ]
  },
  {
   "cell_type": "code",
   "execution_count": 40,
   "metadata": {},
   "outputs": [
    {
     "name": "stdout",
     "output_type": "stream",
     "text": [
      "[[1 2 3]\n",
      " [4 5 6]\n",
      " [7 8 0]]\n"
     ]
    }
   ],
   "source": [
    "RANDOMIZE_STEPS = 1000\n",
    "GOAL_STATE = np.array([i for i in range(1, PUZZLE_DIM**2)] + [0]).reshape((PUZZLE_DIM, PUZZLE_DIM))\n",
    "print(GOAL_STATE)\n",
    "initial_state = GOAL_STATE.copy()\n",
    "for step in range(RANDOMIZE_STEPS): # use tqdm\n",
    "    initial_state = do_action(initial_state, choice(available_actions(initial_state)))\n",
    "    \n",
    "h_distance = manhattan_distance(initial_state)"
   ]
  },
  {
   "cell_type": "code",
   "execution_count": 41,
   "metadata": {},
   "outputs": [],
   "source": [
    "class Node:\n",
    "    def __init__(self, state: np.ndarray, parent, g: int, h: int) -> None:\n",
    "        self.state = state\n",
    "        self.parent = parent\n",
    "        self.g = g\n",
    "        self.h = h\n",
    "\n",
    "    def __lt__(self, next):\n",
    "        return self.g + self.h < next.g + next.h"
   ]
  },
  {
   "cell_type": "code",
   "execution_count": 42,
   "metadata": {},
   "outputs": [
    {
     "name": "stdout",
     "output_type": "stream",
     "text": [
      "[array([[8, 6, 4],\n",
      "       [1, 7, 3],\n",
      "       [5, 2, 0]]), array([[8, 6, 4],\n",
      "       [1, 7, 3],\n",
      "       [5, 0, 2]]), array([[8, 6, 4],\n",
      "       [1, 0, 3],\n",
      "       [5, 7, 2]]), array([[8, 0, 4],\n",
      "       [1, 6, 3],\n",
      "       [5, 7, 2]]), array([[8, 4, 0],\n",
      "       [1, 6, 3],\n",
      "       [5, 7, 2]]), array([[8, 4, 3],\n",
      "       [1, 6, 0],\n",
      "       [5, 7, 2]]), array([[8, 4, 3],\n",
      "       [1, 0, 6],\n",
      "       [5, 7, 2]]), array([[8, 4, 3],\n",
      "       [0, 1, 6],\n",
      "       [5, 7, 2]]), array([[0, 4, 3],\n",
      "       [8, 1, 6],\n",
      "       [5, 7, 2]]), array([[4, 0, 3],\n",
      "       [8, 1, 6],\n",
      "       [5, 7, 2]]), array([[4, 1, 3],\n",
      "       [8, 0, 6],\n",
      "       [5, 7, 2]]), array([[4, 1, 3],\n",
      "       [8, 7, 6],\n",
      "       [5, 0, 2]]), array([[4, 1, 3],\n",
      "       [8, 7, 6],\n",
      "       [0, 5, 2]]), array([[4, 1, 3],\n",
      "       [0, 7, 6],\n",
      "       [8, 5, 2]]), array([[4, 1, 3],\n",
      "       [7, 0, 6],\n",
      "       [8, 5, 2]]), array([[4, 1, 3],\n",
      "       [7, 5, 6],\n",
      "       [8, 0, 2]]), array([[4, 1, 3],\n",
      "       [7, 5, 6],\n",
      "       [8, 2, 0]]), array([[4, 1, 3],\n",
      "       [7, 5, 0],\n",
      "       [8, 2, 6]]), array([[4, 1, 3],\n",
      "       [7, 0, 5],\n",
      "       [8, 2, 6]]), array([[4, 1, 3],\n",
      "       [7, 2, 5],\n",
      "       [8, 0, 6]]), array([[4, 1, 3],\n",
      "       [7, 2, 5],\n",
      "       [0, 8, 6]]), array([[4, 1, 3],\n",
      "       [0, 2, 5],\n",
      "       [7, 8, 6]]), array([[0, 1, 3],\n",
      "       [4, 2, 5],\n",
      "       [7, 8, 6]]), array([[1, 0, 3],\n",
      "       [4, 2, 5],\n",
      "       [7, 8, 6]]), array([[1, 2, 3],\n",
      "       [4, 0, 5],\n",
      "       [7, 8, 6]]), array([[1, 2, 3],\n",
      "       [4, 5, 0],\n",
      "       [7, 8, 6]]), array([[1, 2, 3],\n",
      "       [4, 5, 6],\n",
      "       [7, 8, 0]])]\n",
      "\n",
      "Solve 8-puzzle in 27 moves.\n"
     ]
    }
   ],
   "source": [
    "frontier = []\n",
    "explored = set()\n",
    "heapq.heappush(frontier, Node(initial_state, None, 0, h_distance))\n",
    "\n",
    "while frontier:\n",
    "    current_node = heapq.heappop(frontier)\n",
    "    if np.array_equal(current_node.state, GOAL_STATE):\n",
    "        path = []\n",
    "        node = current_node\n",
    "        while node.parent != None:\n",
    "            path.append(node.state)\n",
    "            node = node.parent\n",
    "        path.append(initial_state)\n",
    "        print(path[::-1])\n",
    "        break\n",
    "    for action in available_actions(current_node.state):\n",
    "        new_state = do_action(current_node.state, action)\n",
    "        if tuple(new_state.flatten()) not in explored:\n",
    "            explored.add(tuple(new_state.flatten()))\n",
    "            heuristic_distance = manhattan_distance(new_state)\n",
    "            heapq.heappush(frontier, Node(new_state, current_node, current_node.g + 1, heuristic_distance))\n",
    "\n",
    "print(f\"\\nSolve {PUZZLE_DIM*PUZZLE_DIM-1}-puzzle in {len(path)} moves.\")\n"
   ]
  }
 ],
 "metadata": {
  "kernelspec": {
   "display_name": "CI2024",
   "language": "python",
   "name": "python3"
  },
  "language_info": {
   "codemirror_mode": {
    "name": "ipython",
    "version": 3
   },
   "file_extension": ".py",
   "mimetype": "text/x-python",
   "name": "python",
   "nbconvert_exporter": "python",
   "pygments_lexer": "ipython3",
   "version": "3.10.11"
  }
 },
 "nbformat": 4,
 "nbformat_minor": 2
}
