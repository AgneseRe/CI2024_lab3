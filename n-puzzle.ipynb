{
 "cells": [
  {
   "cell_type": "code",
   "execution_count": null,
   "metadata": {},
   "outputs": [],
   "source": [
    "import heapq\n",
    "import numpy as np\n",
    "from icecream import ic\n",
    "from random import choice\n",
    "from tqdm.auto import tqdm\n",
    "from collections import namedtuple"
   ]
  },
  {
   "cell_type": "code",
   "execution_count": null,
   "metadata": {},
   "outputs": [],
   "source": [
    "PUZZLE_DIM = 4\n",
    "Action = namedtuple('Action', ['pos1', 'pos2'])"
   ]
  },
  {
   "cell_type": "code",
   "execution_count": null,
   "metadata": {},
   "outputs": [],
   "source": [
    "def available_actions(state: np.ndarray) -> list['Action']:\n",
    "    x_start, y_start = [int(_[0]) for _ in np.where(state == 0)]\n",
    "    actions = list()\n",
    "    if x_start > 0:\n",
    "        actions.append(Action((x_start, y_start), (x_start-1, y_start)))\n",
    "    if x_start < PUZZLE_DIM - 1:\n",
    "        actions.append(Action((x_start, y_start), (x_start+1, y_start)))\n",
    "    if y_start > 0:\n",
    "        actions.append(Action((x_start, y_start), (x_start, y_start-1)))\n",
    "    if y_start < PUZZLE_DIM - 1:\n",
    "        actions.append(Action((x_start, y_start), (x_start, y_start+1)))\n",
    "    return actions\n",
    "\n",
    "def do_action(state: np.ndarray, action: 'Action') -> np.ndarray:\n",
    "    new_state = state.copy()\n",
    "    new_state[action.pos1], new_state[action.pos2] = new_state[action.pos2], new_state[action.pos1]\n",
    "    return new_state\n"
   ]
  },
  {
   "cell_type": "code",
   "execution_count": null,
   "metadata": {},
   "outputs": [],
   "source": [
    "def get_correct_pos():\n",
    "    # row: (n-1) // PUZZLE_DIM, column: n - PUZZLE_DIM * row - 1\n",
    "    correct_pos = {n : ((n-1) // PUZZLE_DIM, n - PUZZLE_DIM * ((n-1) // PUZZLE_DIM) - 1) for n in range(1, PUZZLE_DIM**2)}\n",
    "    correct_pos[0] = (PUZZLE_DIM-1, PUZZLE_DIM-1)\n",
    "    return correct_pos\n",
    "\n",
    "CORRECT_POS = get_correct_pos()\n",
    "\n",
    "def manhattan_distance(state: np.ndarray) -> int:\n",
    "    total_distance = 0\n",
    "    for n in range(PUZZLE_DIM**2):\n",
    "        x_current, y_current = [int(_[0]) for _ in np.where(state == n)]\n",
    "        total_distance += abs(x_current - CORRECT_POS[n][0]) + abs(y_current - CORRECT_POS[n][1])\n",
    "    return total_distance"
   ]
  },
  {
   "cell_type": "code",
   "execution_count": null,
   "metadata": {},
   "outputs": [],
   "source": [
    "# Two tiles are in a linear conflict if they are in the same row or column, and their target positions are in the same row or column, \n",
    "# and the target position of one of the tiles is blocked by the other tile in that row.\n",
    "def n_linear_conflicts(state: np.ndarray) -> int:\n",
    "    conflicts = 0\n",
    "\n",
    "    # row conflicts\n",
    "    for r in range(PUZZLE_DIM):\n",
    "        for c in range(PUZZLE_DIM):\n",
    "            for k in range(c+1, PUZZLE_DIM):\n",
    "                if(state[r][c] and state[r][k] and CORRECT_POS[state[r][c]][0] == r and \n",
    "                CORRECT_POS[state[r][k]][0] == r and CORRECT_POS[state[r][c]][1] > CORRECT_POS[state[r][k]][1]):\n",
    "                    conflicts += 1\n",
    "\n",
    "    # column conflicts\n",
    "    for c in range(PUZZLE_DIM):\n",
    "        for r in range(PUZZLE_DIM):\n",
    "            for l in range(r+1, PUZZLE_DIM):\n",
    "                if(state[r][c] and state[l][c] and CORRECT_POS[state[r][c]][1] == c and \n",
    "                CORRECT_POS[state[l][c]][1] == c and CORRECT_POS[state[r][c]][0] > CORRECT_POS[state[l][c]][0]):\n",
    "                    conflicts += 1\n",
    "    \n",
    "    return conflicts\n",
    "\n",
    "def linear_conflicts(state: np.ndarray) -> int:\n",
    "    return manhattan_distance(state) + n_linear_conflicts(state)\n",
    "\n",
    "heuristic = linear_conflicts"
   ]
  },
  {
   "cell_type": "code",
   "execution_count": null,
   "metadata": {},
   "outputs": [],
   "source": [
    "RANDOMIZE_STEPS = 1000\n",
    "GOAL_STATE = np.array([i for i in range(1, PUZZLE_DIM**2)] + [0]).reshape((PUZZLE_DIM, PUZZLE_DIM))\n",
    "print(GOAL_STATE)\n",
    "initial_state = GOAL_STATE.copy()\n",
    "for step in range(RANDOMIZE_STEPS): # use tqdm\n",
    "    initial_state = do_action(initial_state, choice(available_actions(initial_state)))\n",
    "    \n",
    "h_distance = heuristic(initial_state)"
   ]
  },
  {
   "cell_type": "code",
   "execution_count": null,
   "metadata": {},
   "outputs": [],
   "source": [
    "class Node:\n",
    "    def __init__(self, state: np.ndarray, parent, g: int, h: int) -> None:\n",
    "        self.state = state\n",
    "        self.parent = parent\n",
    "        self.g = g\n",
    "        self.h = h\n",
    "\n",
    "    def __lt__(self, next):\n",
    "        return self.g + self.h < next.g + next.h"
   ]
  },
  {
   "cell_type": "code",
   "execution_count": null,
   "metadata": {},
   "outputs": [],
   "source": [
    "frontier = []\n",
    "explored = set()\n",
    "heapq.heappush(frontier, Node(initial_state, None, 0, h_distance))\n",
    "\n",
    "while frontier:\n",
    "    current_node = heapq.heappop(frontier)\n",
    "    # print(current_node.state)\n",
    "    if np.array_equal(current_node.state, GOAL_STATE):\n",
    "        path = []\n",
    "        node = current_node\n",
    "        while node.parent != None:\n",
    "            path.append(node.state)\n",
    "            node = node.parent\n",
    "        path.append(initial_state)\n",
    "        print(path[::-1])\n",
    "        break\n",
    "    for action in available_actions(current_node.state):\n",
    "        new_state = do_action(current_node.state, action)\n",
    "        if tuple(new_state.flatten()) not in explored:\n",
    "            explored.add(tuple(new_state.flatten()))\n",
    "            heuristic_distance = heuristic(new_state)\n",
    "            heapq.heappush(frontier, Node(new_state, current_node, current_node.g + 1, heuristic_distance))\n",
    "\n",
    "print(f\"\\nSolve {PUZZLE_DIM*PUZZLE_DIM-1}-puzzle in {len(path)} moves.\")\n"
   ]
  }
 ],
 "metadata": {
  "kernelspec": {
   "display_name": "CI2024",
   "language": "python",
   "name": "python3"
  },
  "language_info": {
   "codemirror_mode": {
    "name": "ipython",
    "version": 3
   },
   "file_extension": ".py",
   "mimetype": "text/x-python",
   "name": "python",
   "nbconvert_exporter": "python",
   "pygments_lexer": "ipython3",
   "version": "3.10.11"
  }
 },
 "nbformat": 4,
 "nbformat_minor": 2
}
