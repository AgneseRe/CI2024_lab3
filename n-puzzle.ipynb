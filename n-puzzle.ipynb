{
 "cells": [
  {
   "cell_type": "code",
   "execution_count": 2,
   "metadata": {},
   "outputs": [],
   "source": [
    "import numpy as np\n",
    "from random import choice\n",
    "from tqdm.auto import tqdm\n",
    "from collections import namedtuple"
   ]
  },
  {
   "cell_type": "code",
   "execution_count": 3,
   "metadata": {},
   "outputs": [],
   "source": [
    "PUZZLE_DIM = 3\n",
    "action = namedtuple('Action', ['pos1', 'pos2'])"
   ]
  },
  {
   "cell_type": "code",
   "execution_count": 4,
   "metadata": {},
   "outputs": [],
   "source": [
    "def available_actions(state: np.ndarray) -> list['Action']:\n",
    "    x_start, y_start = [int(_[0]) for _ in np.where(state == 0)]\n",
    "    actions = list()\n",
    "    if x_start > 0:\n",
    "        actions.append(action((x_start, y_start), (x_start-1, y_start)))\n",
    "    if x_start < PUZZLE_DIM - 1:\n",
    "        actions.append(action((x_start, y_start), (x_start+1, y_start)))\n",
    "    if y_start > 0:\n",
    "        actions.append(action((x_start, y_start), (x_start, y_start-1)))\n",
    "    if y_start < PUZZLE_DIM - 1:\n",
    "        actions.append(action((x_start, y_start), (x_start, y_start+1)))\n",
    "    return actions\n",
    "\n",
    "def do_action(state: np.ndarray, action: 'Action') -> np.ndarray:\n",
    "    new_state = state.copy()\n",
    "    new_state[action.pos1], new_state[action.pos2] = new_state[action.pos2], new_state[action.pos1]\n",
    "    return new_state\n"
   ]
  },
  {
   "cell_type": "code",
   "execution_count": null,
   "metadata": {},
   "outputs": [],
   "source": [
    "def manhattan_distance(state: np.ndarray) -> int:\n",
    "    total_distance = 0\n",
    "    correct_pos = {n : (n // PUZZLE_DIM, n - PUZZLE_DIM * (n // PUZZLE_DIM)) for n in range(PUZZLE_DIM**2)}\n",
    "    for n in range(PUZZLE_DIM**2):\n",
    "        x_current, y_current = [int(_[0]) for _ in np.where(state == n)]\n",
    "        total_distance += abs(x_current - correct_pos[n][0]) + abs(y_current - correct_pos[n][1])\n",
    "    return total_distance"
   ]
  },
  {
   "cell_type": "code",
   "execution_count": 33,
   "metadata": {},
   "outputs": [
    {
     "name": "stdout",
     "output_type": "stream",
     "text": [
      "[[0 5 1]\n",
      " [4 6 2]\n",
      " [3 7 8]]\n",
      "0 contributes with a distance of 0 from 0,0 to 0,0\n",
      "1 contributes with a distance of 1 from 0,2 to 0,1\n",
      "2 contributes with a distance of 1 from 1,2 to 0,2\n",
      "3 contributes with a distance of 1 from 2,0 to 1,0\n",
      "4 contributes with a distance of 1 from 1,0 to 1,1\n",
      "5 contributes with a distance of 2 from 0,1 to 1,2\n",
      "6 contributes with a distance of 2 from 1,1 to 2,0\n",
      "7 contributes with a distance of 0 from 2,1 to 2,1\n",
      "8 contributes with a distance of 0 from 2,2 to 2,2\n"
     ]
    },
    {
     "data": {
      "text/plain": [
       "8"
      ]
     },
     "execution_count": 33,
     "metadata": {},
     "output_type": "execute_result"
    }
   ],
   "source": [
    "RANDOMIZE_STEPS = 100_000\n",
    "state = np.array([i for i in range(0, PUZZLE_DIM**2)]).reshape((PUZZLE_DIM, PUZZLE_DIM))\n",
    "# for step in tqdm(range(RANDOMIZE_STEPS), desc = 'Randomizing', dynamic_ncols=True):\n",
    "for step in range(RANDOMIZE_STEPS):\n",
    "    state = do_action(state, choice(available_actions(state)))\n",
    "print(state)\n",
    "manhattan_distance(state)"
   ]
  },
  {
   "cell_type": "code",
   "execution_count": null,
   "metadata": {},
   "outputs": [],
   "source": []
  }
 ],
 "metadata": {
  "kernelspec": {
   "display_name": "CI2024",
   "language": "python",
   "name": "python3"
  },
  "language_info": {
   "codemirror_mode": {
    "name": "ipython",
    "version": 3
   },
   "file_extension": ".py",
   "mimetype": "text/x-python",
   "name": "python",
   "nbconvert_exporter": "python",
   "pygments_lexer": "ipython3",
   "version": "3.10.11"
  }
 },
 "nbformat": 4,
 "nbformat_minor": 2
}
