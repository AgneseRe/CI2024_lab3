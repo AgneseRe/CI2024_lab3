{
 "cells": [
  {
   "cell_type": "code",
   "execution_count": 1,
   "metadata": {},
   "outputs": [],
   "source": [
    "import numpy as np\n",
    "from random import choice\n",
    "from tqdm.auto import tqdm\n",
    "from collections import namedtuple"
   ]
  },
  {
   "cell_type": "code",
   "execution_count": 2,
   "metadata": {},
   "outputs": [],
   "source": [
    "PUZZLE_DIM = 3\n",
    "action = namedtuple('Action', ['pos1', 'pos2'])"
   ]
  },
  {
   "cell_type": "code",
   "execution_count": 3,
   "metadata": {},
   "outputs": [],
   "source": [
    "def available_actions(state: np.ndarray) -> list['Action']:\n",
    "    x_start, y_start = [int(_[0]) for _ in np.where(state == 0)]\n",
    "    actions = list()\n",
    "    if x_start > 0:\n",
    "        actions.append(action((x_start, y_start), (x_start-1, y_start)))\n",
    "    if x_start < PUZZLE_DIM - 1:\n",
    "        actions.append(action((x_start, y_start), (x_start+1, y_start)))\n",
    "    if y_start > 0:\n",
    "        actions.append(action((x_start, y_start), (x_start, y_start-1)))\n",
    "    if y_start < PUZZLE_DIM - 1:\n",
    "        actions.append(action((x_start, y_start), (x_start, y_start+1)))\n",
    "    return actions\n",
    "\n",
    "def do_action(state: np.ndarray, action: 'Action') -> np.ndarray:\n",
    "    new_state = state.copy()\n",
    "    new_state[action.pos1], new_state[action.pos2] = new_state[action.pos2], new_state[action.pos1]\n",
    "    return new_state\n",
    "\n"
   ]
  },
  {
   "cell_type": "code",
   "execution_count": 4,
   "metadata": {},
   "outputs": [
    {
     "data": {
      "application/vnd.jupyter.widget-view+json": {
       "model_id": "22f48223201d4dd091b94fd313c64f38",
       "version_major": 2,
       "version_minor": 0
      },
      "text/plain": [
       "Randomizing:   0%|          | 0/100000 [00:00<?, ?it/s]"
      ]
     },
     "metadata": {},
     "output_type": "display_data"
    },
    {
     "data": {
      "text/plain": [
       "array([[0, 3, 5],\n",
       "       [8, 2, 1],\n",
       "       [6, 4, 7]])"
      ]
     },
     "execution_count": 4,
     "metadata": {},
     "output_type": "execute_result"
    }
   ],
   "source": [
    "RANDOMIZE_STEPS = 100_000\n",
    "state = np.array([i for i in range(0, PUZZLE_DIM**2)]).reshape((PUZZLE_DIM, PUZZLE_DIM))\n",
    "for step in tqdm(range(RANDOMIZE_STEPS), desc = 'Randomizing', dynamic_ncols=True):\n",
    "    state = do_action(state, choice(available_actions(state)))\n",
    "state"
   ]
  }
 ],
 "metadata": {
  "kernelspec": {
   "display_name": "CI2024",
   "language": "python",
   "name": "python3"
  },
  "language_info": {
   "codemirror_mode": {
    "name": "ipython",
    "version": 3
   },
   "file_extension": ".py",
   "mimetype": "text/x-python",
   "name": "python",
   "nbconvert_exporter": "python",
   "pygments_lexer": "ipython3",
   "version": "3.10.11"
  }
 },
 "nbformat": 4,
 "nbformat_minor": 2
}
